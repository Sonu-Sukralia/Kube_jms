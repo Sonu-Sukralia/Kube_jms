{
 "cells": [
  {
   "cell_type": "code",
   "execution_count": 1,
   "id": "e10044d0-0ebe-4c23-aeb0-f2ca0811be6b",
   "metadata": {},
   "outputs": [],
   "source": [
    "from pyspark.sql import SparkSession\n",
    "\n",
    "minio_endpoint = \"http://s3a-hl.data-platform:9000\"  # Ensure this matches your setup s3a-hl.data-platform:9000\n",
    "minio_access_key = \"ykh5O35wc7imnHGw8oqK\"\n",
    "minio_secret_key = \"xHsyoAqFE5exvOnfCT9uMcMzvAh73kZPAqrvy8mF\"\n",
    "minio_bucket = \"test\"\n",
    "\n",
    "spark = SparkSession.builder \\\n",
    "    .appName(\"MinIOs\") \\\n",
    "    .config('spark.master','local')\\\n",
    "    .config(\"spark.jars.packages\", \"org.apache.hadoop:hadoop-aws:3.3.4\") \\\n",
    "    .config(\"spark.hadoop.fs.s3a.endpoint\", minio_endpoint) \\\n",
    "    .config(\"spark.hadoop.fs.s3a.access.key\", minio_access_key) \\\n",
    "    .config(\"spark.hadoop.fs.s3a.secret.key\", minio_secret_key) \\\n",
    "    .config(\"spark.hadoop.fs.s3a.impl\", \"org.apache.hadoop.fs.s3a.S3AFileSystem\") \\\n",
    "    .config(\"spark.hadoop.fs.s3a.path.style.access\", \"true\") \\\n",
    "    .config(\"spark.hadoop.fs.s3a.connection.ssl.enabled\", \"false\") \\\n",
    "    .getOrCreate()\n"
   ]
  },
  {
   "cell_type": "code",
   "execution_count": 2,
   "id": "a41c9fb1-672f-497b-972b-ef601005d2db",
   "metadata": {},
   "outputs": [
    {
     "name": "stdout",
     "output_type": "stream",
     "text": [
      "+-----------+\n",
      "|avg(amount)|\n",
      "+-----------+\n",
      "|     2500.0|\n",
      "+-----------+\n",
      "\n"
     ]
    }
   ],
   "source": [
    "dataframe = spark.read.json('s3a://test/orders.json')\n",
    "\n",
    "average = dataframe.agg({'amount':'avg'})\n",
    "\n",
    "#average.write.format(\"csv\").option(\"header\", \"true\").save(\"s3a://test/json/\")\n",
    "\n",
    "average.show()"
   ]
  },
  {
   "cell_type": "code",
   "execution_count": 3,
   "id": "0d21d7f7-17d6-4703-a630-3d385b532c30",
   "metadata": {},
   "outputs": [],
   "source": [
    "spark.stop()"
   ]
  },
  {
   "cell_type": "code",
   "execution_count": null,
   "id": "319d2184-ddbc-489f-8351-7917d4adc507",
   "metadata": {},
   "outputs": [],
   "source": []
  }
 ],
 "metadata": {
  "kernelspec": {
   "display_name": "Python 3 (ipykernel)",
   "language": "python",
   "name": "python3"
  },
  "language_info": {
   "codemirror_mode": {
    "name": "ipython",
    "version": 3
   },
   "file_extension": ".py",
   "mimetype": "text/x-python",
   "name": "python",
   "nbconvert_exporter": "python",
   "pygments_lexer": "ipython3",
   "version": "3.11.6"
  }
 },
 "nbformat": 4,
 "nbformat_minor": 5
}
