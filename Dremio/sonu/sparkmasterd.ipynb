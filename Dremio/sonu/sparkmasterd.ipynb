{
 "cells": [
  {
   "cell_type": "code",
   "execution_count": 1,
   "id": "f74e906a-c260-4b5d-bb40-64d490b70f44",
   "metadata": {},
   "outputs": [],
   "source": [
    "from pyspark.sql import SparkSession\n",
    "\n",
    "# Kubernetes dashboard > Config And Storage > Secrets > s3a-env-configuration\n",
    "#http://192.168.29.16:9090/browser/test login() :- E2XLJVLJHRZVUVLR & ZQ5BDKSIGDTIUI0CSRZYW22DRWKCTZLE\n",
    "\n",
    "#Kubernetes dashboard > Service > Services > \n",
    "#Name (s3a-hl) \n",
    "#Labels(v1.min.io/tenant: s3a) Type(ClusterIP) Cluster IP(none) and Internal Endpoints(s3a-hl.data-platform:9000 TCP & s3a-hl.data-platform:0 TCP)\n",
    "#http://s3a-hl.data-platform:9000\n",
    "\n",
    "#http://192.168.29.16:9090 go to Minio console then create Object Browser and upload csv file and then create Access Keys\n",
    "# \"accessKey\":\"qUqE7TK7Xhkw9hS8DS4b\",\"secretKey\":\"MeJYIY6s4X8P0SjYF7AsFkgf9AePLu837gndpAKS\"\n",
    "\n",
    "#To access spark cluser and jupyterlab.\n",
    "#Jupyter Notebook    :- http://localhost:8888/lab/ :- no need token. \n",
    "#Jupyter Nodtebook   :- http://localhost:8888/lab/tree/K8s_code_sparkmaster.ipynb.\n",
    "#Spark Master UI     :- http://10.43.175.33:8080/  spark-master-svc.data-platform:7077\n",
    "#Application ID Logs :- http://10.42.3.220:8081/logPage/?appId=app-20240830140856-0003&executorId=0&logType=stderr\n",
    "\n",
    "#For Driver host and driver bindaddress : Go to kubernetes dashboard(Namespace:-Data-platform) > \n",
    "#Workloads>Pods>jupiter-spark-f445c778b-bbkcd>Resource information>Node(raspberry)>Status(Running)>Ip(10.42.0.68)\n",
    "\n",
    "minio_endpoint = \"http://s3a-hl.data-platform:9000\"  # Ensure this matches your setup s3a-hl.data-platform:9000\n",
    "minio_access_key = \"ykh5O35wc7imnHGw8oqK\"\n",
    "minio_secret_key = \"xHsyoAqFE5exvOnfCT9uMcMzvAh73kZPAqrvy8mF\"\n",
    "minio_bucket = \"test\"\n",
    "\n",
    "spark = SparkSession.builder \\\n",
    "    .appName(\"MinIOs\") \\\n",
    "    .config('spark.master','spark://spark-master-svc.data-platform:7077')\\\n",
    "    .config(\"spark.driver.host\", \"10.42.0.66\")\\\n",
    "    .config(\"spark.driver.bindAddress\", \"10.42.0.66\")\\\n",
    "    .config(\"spark.jars.packages\", \"org.apache.hadoop:hadoop-aws:3.3.4\") \\\n",
    "    .config(\"spark.hadoop.fs.s3a.endpoint\", minio_endpoint) \\\n",
    "    .config(\"spark.hadoop.fs.s3a.access.key\", minio_access_key) \\\n",
    "    .config(\"spark.hadoop.fs.s3a.secret.key\", minio_secret_key) \\\n",
    "    .config(\"spark.hadoop.fs.s3a.impl\", \"org.apache.hadoop.fs.s3a.S3AFileSystem\") \\\n",
    "    .config(\"spark.hadoop.fs.s3a.path.style.access\", \"true\") \\\n",
    "    .config(\"spark.hadoop.fs.s3a.connection.ssl.enabled\", \"false\") \\\n",
    "    .getOrCreate()"
   ]
  },
  {
   "cell_type": "code",
   "execution_count": 2,
   "id": "9b253748-c4d3-4ed3-80d0-ed8cd79df913",
   "metadata": {},
   "outputs": [
    {
     "name": "stdout",
     "output_type": "stream",
     "text": [
      "+-----------+\n",
      "|avg(amount)|\n",
      "+-----------+\n",
      "|     2500.0|\n",
      "+-----------+\n",
      "\n"
     ]
    }
   ],
   "source": [
    "dataframe = spark.read.json('s3a://test/orders.json')\n",
    "\n",
    "average = dataframe.agg({'amount':'avg'})\n",
    "\n",
    "average.write.format(\"csv\").option(\"header\", \"true\").save(\"s3a://test/json/\")\n",
    "\n",
    "average.show()\n"
   ]
  },
  {
   "cell_type": "code",
   "execution_count": 3,
   "id": "0abf8d33-966c-4522-8731-d237433b943c",
   "metadata": {},
   "outputs": [],
   "source": [
    "spark.stop()"
   ]
  },
  {
   "cell_type": "code",
   "execution_count": null,
   "id": "c71f4e46-c1b2-41b8-9765-9fbffc40e18f",
   "metadata": {},
   "outputs": [],
   "source": []
  }
 ],
 "metadata": {
  "kernelspec": {
   "display_name": "Python 3 (ipykernel)",
   "language": "python",
   "name": "python3"
  },
  "language_info": {
   "codemirror_mode": {
    "name": "ipython",
    "version": 3
   },
   "file_extension": ".py",
   "mimetype": "text/x-python",
   "name": "python",
   "nbconvert_exporter": "python",
   "pygments_lexer": "ipython3",
   "version": "3.11.6"
  }
 },
 "nbformat": 4,
 "nbformat_minor": 5
}
