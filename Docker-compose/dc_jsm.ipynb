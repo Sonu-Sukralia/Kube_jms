{
 "cells": [
  {
   "cell_type": "code",
   "execution_count": 1,
   "id": "58b10446-c512-41d5-9166-4cc4e1fe4997",
   "metadata": {},
   "outputs": [],
   "source": [
    "from pyspark.sql import SparkSession\n",
    "\n",
    "# Create a Spark session\n",
    "spark = SparkSession.builder.appName(\"sks\")\\\n",
    "            .master(\"spark://261183058cc2:7077\").getOrCreate() #spark://193193aba901:7077"
   ]
  },
  {
   "cell_type": "code",
   "execution_count": 2,
   "id": "565b17c0-114d-4049-8cfa-e3c5629c7d5b",
   "metadata": {},
   "outputs": [
    {
     "data": {
      "text/html": [
       "\n",
       "            <div>\n",
       "                <p><b>SparkSession - in-memory</b></p>\n",
       "                \n",
       "        <div>\n",
       "            <p><b>SparkContext</b></p>\n",
       "\n",
       "            <p><a href=\"http://3d2085d38215:4040\">Spark UI</a></p>\n",
       "\n",
       "            <dl>\n",
       "              <dt>Version</dt>\n",
       "                <dd><code>v3.5.0</code></dd>\n",
       "              <dt>Master</dt>\n",
       "                <dd><code>spark://261183058cc2:7077</code></dd>\n",
       "              <dt>AppName</dt>\n",
       "                <dd><code>sks</code></dd>\n",
       "            </dl>\n",
       "        </div>\n",
       "        \n",
       "            </div>\n",
       "        "
      ],
      "text/plain": [
       "<pyspark.sql.session.SparkSession at 0x7ffec37b1250>"
      ]
     },
     "execution_count": 2,
     "metadata": {},
     "output_type": "execute_result"
    }
   ],
   "source": [
    "spark"
   ]
  },
  {
   "cell_type": "code",
   "execution_count": 3,
   "id": "d361c0a6-d7b3-4f35-aa2d-786dfbc5a575",
   "metadata": {
    "scrolled": true
   },
   "outputs": [
    {
     "name": "stdout",
     "output_type": "stream",
     "text": [
      "+--------+--------------------+---------------------+---------------+-------------+----------+------------------+------------+------------+------------+-----------+-----+-------+----------+------------+---------------------+------------+\n",
      "|VendorID|tpep_pickup_datetime|tpep_dropoff_datetime|passenger_count|trip_distance|RatecodeID|store_and_fwd_flag|PULocationID|DOLocationID|payment_type|fare_amount|extra|mta_tax|tip_amount|tolls_amount|improvement_surcharge|total_amount|\n",
      "+--------+--------------------+---------------------+---------------+-------------+----------+------------------+------------+------------+------------+-----------+-----+-------+----------+------------+---------------------+------------+\n",
      "|       2|02/08/2018 05:07:...| 02/08/2018 05:16:...|              1|         1.78|         1|                 N|          79|         162|           1|        8.5|  0.5|    0.5|         1|           0|                  0.3|        10.8|\n",
      "|       2|02/08/2018 05:06:...| 02/08/2018 05:19:...|              1|         6.22|         1|                 N|         261|          89|           1|       18.5|  0.5|    0.5|      6.44|        5.76|                  0.3|          32|\n",
      "|       2|02/08/2018 05:49:...| 02/08/2018 05:52:...|              1|         1.01|         1|                 N|          13|         231|           2|          5|  0.5|    0.5|         0|           0|                  0.3|         6.3|\n",
      "+--------+--------------------+---------------------+---------------+-------------+----------+------------------+------------+------------+------------+-----------+-----+-------+----------+------------+---------------------+------------+\n",
      "\n"
     ]
    }
   ],
   "source": [
    "data1 = spark.read.csv(\"/opt/file/taxi.csv\", header=True)\n",
    "data1.limit(3).show()"
   ]
  },
  {
   "cell_type": "code",
   "execution_count": 4,
   "id": "0ef4fbcc-9d51-41b6-a8b4-d82ee53b396b",
   "metadata": {},
   "outputs": [
    {
     "name": "stdout",
     "output_type": "stream",
     "text": [
      "+---+\n",
      "| id|\n",
      "+---+\n",
      "|  0|\n",
      "|  1|\n",
      "|  2|\n",
      "|  3|\n",
      "|  4|\n",
      "|  5|\n",
      "|  6|\n",
      "|  7|\n",
      "|  8|\n",
      "|  9|\n",
      "+---+\n",
      "\n"
     ]
    }
   ],
   "source": [
    "data = spark.range(0, 10)\n",
    "data.show()"
   ]
  },
  {
   "cell_type": "code",
   "execution_count": null,
   "id": "a142eca6-63d0-415c-be0e-7eb807ca44ce",
   "metadata": {},
   "outputs": [],
   "source": []
  }
 ],
 "metadata": {
  "kernelspec": {
   "display_name": "Python 3 (ipykernel)",
   "language": "python",
   "name": "python3"
  },
  "language_info": {
   "codemirror_mode": {
    "name": "ipython",
    "version": 3
   },
   "file_extension": ".py",
   "mimetype": "text/x-python",
   "name": "python",
   "nbconvert_exporter": "python",
   "pygments_lexer": "ipython3",
   "version": "3.11.6"
  }
 },
 "nbformat": 4,
 "nbformat_minor": 5
}
